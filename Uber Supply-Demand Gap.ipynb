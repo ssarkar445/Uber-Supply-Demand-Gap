{
 "cells": [
  {
   "cell_type": "code",
   "execution_count": 1,
   "metadata": {},
   "outputs": [],
   "source": [
    "# Basic imports to start with the problem\n",
    "import os\n",
    "import datetime\n",
    "import pandas as pd\n",
    "import numpy as np\n",
    "from matplotlib import pyplot as plt\n",
    "import seaborn as sns\n",
    "import matplotlib.style as style"
   ]
  },
  {
   "cell_type": "code",
   "execution_count": 2,
   "metadata": {},
   "outputs": [],
   "source": [
    "# Loading the data \n",
    "uber_data = pd.read_csv('Uber Request Data.csv',encoding = 'UTF-8')"
   ]
  },
  {
   "cell_type": "markdown",
   "metadata": {},
   "source": [
    "**Doing basic check on the dataset"
   ]
  },
  {
   "cell_type": "code",
   "execution_count": 3,
   "metadata": {},
   "outputs": [
    {
     "data": {
      "text/plain": [
       "(6745, 6)"
      ]
     },
     "execution_count": 3,
     "metadata": {},
     "output_type": "execute_result"
    }
   ],
   "source": [
    "# Checking the number of rows and columns\n",
    "uber_data.shape"
   ]
  },
  {
   "cell_type": "code",
   "execution_count": 4,
   "metadata": {},
   "outputs": [
    {
     "data": {
      "text/html": [
       "<div>\n",
       "<style scoped>\n",
       "    .dataframe tbody tr th:only-of-type {\n",
       "        vertical-align: middle;\n",
       "    }\n",
       "\n",
       "    .dataframe tbody tr th {\n",
       "        vertical-align: top;\n",
       "    }\n",
       "\n",
       "    .dataframe thead th {\n",
       "        text-align: right;\n",
       "    }\n",
       "</style>\n",
       "<table border=\"1\" class=\"dataframe\">\n",
       "  <thead>\n",
       "    <tr style=\"text-align: right;\">\n",
       "      <th></th>\n",
       "      <th>Request id</th>\n",
       "      <th>Driver id</th>\n",
       "    </tr>\n",
       "  </thead>\n",
       "  <tbody>\n",
       "    <tr>\n",
       "      <th>count</th>\n",
       "      <td>6745.000000</td>\n",
       "      <td>4095.000000</td>\n",
       "    </tr>\n",
       "    <tr>\n",
       "      <th>mean</th>\n",
       "      <td>3384.644922</td>\n",
       "      <td>149.501343</td>\n",
       "    </tr>\n",
       "    <tr>\n",
       "      <th>std</th>\n",
       "      <td>1955.099667</td>\n",
       "      <td>86.051994</td>\n",
       "    </tr>\n",
       "    <tr>\n",
       "      <th>min</th>\n",
       "      <td>1.000000</td>\n",
       "      <td>1.000000</td>\n",
       "    </tr>\n",
       "    <tr>\n",
       "      <th>25%</th>\n",
       "      <td>1691.000000</td>\n",
       "      <td>75.000000</td>\n",
       "    </tr>\n",
       "    <tr>\n",
       "      <th>50%</th>\n",
       "      <td>3387.000000</td>\n",
       "      <td>149.000000</td>\n",
       "    </tr>\n",
       "    <tr>\n",
       "      <th>75%</th>\n",
       "      <td>5080.000000</td>\n",
       "      <td>224.000000</td>\n",
       "    </tr>\n",
       "    <tr>\n",
       "      <th>max</th>\n",
       "      <td>6766.000000</td>\n",
       "      <td>300.000000</td>\n",
       "    </tr>\n",
       "  </tbody>\n",
       "</table>\n",
       "</div>"
      ],
      "text/plain": [
       "        Request id    Driver id\n",
       "count  6745.000000  4095.000000\n",
       "mean   3384.644922   149.501343\n",
       "std    1955.099667    86.051994\n",
       "min       1.000000     1.000000\n",
       "25%    1691.000000    75.000000\n",
       "50%    3387.000000   149.000000\n",
       "75%    5080.000000   224.000000\n",
       "max    6766.000000   300.000000"
      ]
     },
     "execution_count": 4,
     "metadata": {},
     "output_type": "execute_result"
    }
   ],
   "source": [
    "# Describing the column for mean,std and quantiles information\n",
    "uber_data.describe()"
   ]
  },
  {
   "cell_type": "code",
   "execution_count": 5,
   "metadata": {},
   "outputs": [
    {
     "name": "stdout",
     "output_type": "stream",
     "text": [
      "<class 'pandas.core.frame.DataFrame'>\n",
      "RangeIndex: 6745 entries, 0 to 6744\n",
      "Data columns (total 6 columns):\n",
      "Request id           6745 non-null int64\n",
      "Pickup point         6745 non-null object\n",
      "Driver id            4095 non-null float64\n",
      "Status               6745 non-null object\n",
      "Request timestamp    6745 non-null object\n",
      "Drop timestamp       2831 non-null object\n",
      "dtypes: float64(1), int64(1), object(4)\n",
      "memory usage: 316.2+ KB\n"
     ]
    }
   ],
   "source": [
    "# Checking the datatype\n",
    "uber_data.info()"
   ]
  },
  {
   "cell_type": "code",
   "execution_count": 6,
   "metadata": {},
   "outputs": [
    {
     "data": {
      "text/html": [
       "<div>\n",
       "<style scoped>\n",
       "    .dataframe tbody tr th:only-of-type {\n",
       "        vertical-align: middle;\n",
       "    }\n",
       "\n",
       "    .dataframe tbody tr th {\n",
       "        vertical-align: top;\n",
       "    }\n",
       "\n",
       "    .dataframe thead th {\n",
       "        text-align: right;\n",
       "    }\n",
       "</style>\n",
       "<table border=\"1\" class=\"dataframe\">\n",
       "  <thead>\n",
       "    <tr style=\"text-align: right;\">\n",
       "      <th></th>\n",
       "      <th>Request id</th>\n",
       "      <th>Pickup point</th>\n",
       "      <th>Driver id</th>\n",
       "      <th>Status</th>\n",
       "      <th>Request timestamp</th>\n",
       "      <th>Drop timestamp</th>\n",
       "    </tr>\n",
       "  </thead>\n",
       "  <tbody>\n",
       "    <tr>\n",
       "      <th>6740</th>\n",
       "      <td>6745</td>\n",
       "      <td>City</td>\n",
       "      <td>NaN</td>\n",
       "      <td>No Cars Available</td>\n",
       "      <td>15-07-2016 23:49:03</td>\n",
       "      <td>NaN</td>\n",
       "    </tr>\n",
       "    <tr>\n",
       "      <th>6741</th>\n",
       "      <td>6752</td>\n",
       "      <td>Airport</td>\n",
       "      <td>NaN</td>\n",
       "      <td>No Cars Available</td>\n",
       "      <td>15-07-2016 23:50:05</td>\n",
       "      <td>NaN</td>\n",
       "    </tr>\n",
       "    <tr>\n",
       "      <th>6742</th>\n",
       "      <td>6751</td>\n",
       "      <td>City</td>\n",
       "      <td>NaN</td>\n",
       "      <td>No Cars Available</td>\n",
       "      <td>15-07-2016 23:52:06</td>\n",
       "      <td>NaN</td>\n",
       "    </tr>\n",
       "    <tr>\n",
       "      <th>6743</th>\n",
       "      <td>6754</td>\n",
       "      <td>City</td>\n",
       "      <td>NaN</td>\n",
       "      <td>No Cars Available</td>\n",
       "      <td>15-07-2016 23:54:39</td>\n",
       "      <td>NaN</td>\n",
       "    </tr>\n",
       "    <tr>\n",
       "      <th>6744</th>\n",
       "      <td>6753</td>\n",
       "      <td>Airport</td>\n",
       "      <td>NaN</td>\n",
       "      <td>No Cars Available</td>\n",
       "      <td>15-07-2016 23:55:03</td>\n",
       "      <td>NaN</td>\n",
       "    </tr>\n",
       "  </tbody>\n",
       "</table>\n",
       "</div>"
      ],
      "text/plain": [
       "      Request id Pickup point  Driver id             Status  \\\n",
       "6740        6745         City        NaN  No Cars Available   \n",
       "6741        6752      Airport        NaN  No Cars Available   \n",
       "6742        6751         City        NaN  No Cars Available   \n",
       "6743        6754         City        NaN  No Cars Available   \n",
       "6744        6753      Airport        NaN  No Cars Available   \n",
       "\n",
       "        Request timestamp Drop timestamp  \n",
       "6740  15-07-2016 23:49:03            NaN  \n",
       "6741  15-07-2016 23:50:05            NaN  \n",
       "6742  15-07-2016 23:52:06            NaN  \n",
       "6743  15-07-2016 23:54:39            NaN  \n",
       "6744  15-07-2016 23:55:03            NaN  "
      ]
     },
     "execution_count": 6,
     "metadata": {},
     "output_type": "execute_result"
    }
   ],
   "source": [
    "# Inspecting the first and last few rows\n",
    "uber_data.head()\n",
    "uber_data.tail()"
   ]
  },
  {
   "cell_type": "code",
   "execution_count": 7,
   "metadata": {
    "scrolled": true
   },
   "outputs": [
    {
     "data": {
      "text/plain": [
       "Request id              0\n",
       "Pickup point            0\n",
       "Driver id            2650\n",
       "Status                  0\n",
       "Request timestamp       0\n",
       "Drop timestamp       3914\n",
       "dtype: int64"
      ]
     },
     "execution_count": 7,
     "metadata": {},
     "output_type": "execute_result"
    }
   ],
   "source": [
    "# Checking for the nulls column wise\n",
    "uber_data.isnull().sum()"
   ]
  },
  {
   "cell_type": "code",
   "execution_count": 8,
   "metadata": {},
   "outputs": [
    {
     "data": {
      "text/plain": [
       "0    0\n",
       "1    0\n",
       "2    0\n",
       "3    0\n",
       "4    0\n",
       "dtype: int64"
      ]
     },
     "execution_count": 8,
     "metadata": {},
     "output_type": "execute_result"
    }
   ],
   "source": [
    "# Checking for the nulls row wise\n",
    "uber_data.isnull().sum(axis =1).head()"
   ]
  },
  {
   "cell_type": "markdown",
   "metadata": {},
   "source": [
    "From above we can conclude the records are nulls as Status column having No Cars Available values which is required for our analysis and we are retaining all the columns"
   ]
  },
  {
   "cell_type": "code",
   "execution_count": 9,
   "metadata": {},
   "outputs": [],
   "source": [
    "# Converting the inconsistent dates to a single format\n",
    "uber_data['Request timestamp'] = pd.to_datetime(uber_data['Request timestamp'])\n",
    "uber_data['Drop timestamp'] = pd.to_datetime(uber_data['Drop timestamp'])"
   ]
  },
  {
   "cell_type": "markdown",
   "metadata": {},
   "source": [
    "Values for the date fields are inconsistent having different format above lines are used to bring all the values for dates to a single format"
   ]
  },
  {
   "cell_type": "code",
   "execution_count": 10,
   "metadata": {},
   "outputs": [
    {
     "data": {
      "text/html": [
       "<div>\n",
       "<style scoped>\n",
       "    .dataframe tbody tr th:only-of-type {\n",
       "        vertical-align: middle;\n",
       "    }\n",
       "\n",
       "    .dataframe tbody tr th {\n",
       "        vertical-align: top;\n",
       "    }\n",
       "\n",
       "    .dataframe thead th {\n",
       "        text-align: right;\n",
       "    }\n",
       "</style>\n",
       "<table border=\"1\" class=\"dataframe\">\n",
       "  <thead>\n",
       "    <tr style=\"text-align: right;\">\n",
       "      <th></th>\n",
       "      <th>Request id</th>\n",
       "      <th>Pickup point</th>\n",
       "      <th>Driver id</th>\n",
       "      <th>Status</th>\n",
       "      <th>Request timestamp</th>\n",
       "      <th>Drop timestamp</th>\n",
       "    </tr>\n",
       "  </thead>\n",
       "  <tbody>\n",
       "    <tr>\n",
       "      <th>0</th>\n",
       "      <td>619</td>\n",
       "      <td>Airport</td>\n",
       "      <td>1.0</td>\n",
       "      <td>Trip Completed</td>\n",
       "      <td>2016-11-07 11:51:00</td>\n",
       "      <td>2016-11-07 13:00:00</td>\n",
       "    </tr>\n",
       "    <tr>\n",
       "      <th>1</th>\n",
       "      <td>867</td>\n",
       "      <td>Airport</td>\n",
       "      <td>1.0</td>\n",
       "      <td>Trip Completed</td>\n",
       "      <td>2016-11-07 17:57:00</td>\n",
       "      <td>2016-11-07 18:47:00</td>\n",
       "    </tr>\n",
       "    <tr>\n",
       "      <th>2</th>\n",
       "      <td>1807</td>\n",
       "      <td>City</td>\n",
       "      <td>1.0</td>\n",
       "      <td>Trip Completed</td>\n",
       "      <td>2016-12-07 09:17:00</td>\n",
       "      <td>2016-12-07 09:58:00</td>\n",
       "    </tr>\n",
       "    <tr>\n",
       "      <th>3</th>\n",
       "      <td>2532</td>\n",
       "      <td>Airport</td>\n",
       "      <td>1.0</td>\n",
       "      <td>Trip Completed</td>\n",
       "      <td>2016-12-07 21:08:00</td>\n",
       "      <td>2016-12-07 22:03:00</td>\n",
       "    </tr>\n",
       "    <tr>\n",
       "      <th>4</th>\n",
       "      <td>3112</td>\n",
       "      <td>City</td>\n",
       "      <td>1.0</td>\n",
       "      <td>Trip Completed</td>\n",
       "      <td>2016-07-13 08:33:16</td>\n",
       "      <td>2016-07-13 09:25:47</td>\n",
       "    </tr>\n",
       "  </tbody>\n",
       "</table>\n",
       "</div>"
      ],
      "text/plain": [
       "   Request id Pickup point  Driver id          Status   Request timestamp  \\\n",
       "0         619      Airport        1.0  Trip Completed 2016-11-07 11:51:00   \n",
       "1         867      Airport        1.0  Trip Completed 2016-11-07 17:57:00   \n",
       "2        1807         City        1.0  Trip Completed 2016-12-07 09:17:00   \n",
       "3        2532      Airport        1.0  Trip Completed 2016-12-07 21:08:00   \n",
       "4        3112         City        1.0  Trip Completed 2016-07-13 08:33:16   \n",
       "\n",
       "       Drop timestamp  \n",
       "0 2016-11-07 13:00:00  \n",
       "1 2016-11-07 18:47:00  \n",
       "2 2016-12-07 09:58:00  \n",
       "3 2016-12-07 22:03:00  \n",
       "4 2016-07-13 09:25:47  "
      ]
     },
     "execution_count": 10,
     "metadata": {},
     "output_type": "execute_result"
    }
   ],
   "source": [
    "# Verifying the data for the changes done\n",
    "uber_data.head()"
   ]
  },
  {
   "cell_type": "code",
   "execution_count": 11,
   "metadata": {},
   "outputs": [],
   "source": [
    "# Creating derived columns for hour and minutes\n",
    "\n",
    "#uber_data['request_day'] = uber_data['Request timestamp'].dt.day\n",
    "#uber_data['request_month'] = uber_data['Request timestamp'].dt.month\n",
    "#uber_data['request_year'] = uber_data['Request timestamp'].dt.year\n",
    "\n",
    "#uber_data['drop_day'] = uber_data['Drop timestamp'].dt.day\n",
    "#uber_data['drop_month'] = uber_data['Drop timestamp'].dt.month\n",
    "#uber_data['drop_year'] = uber_data['Drop timestamp'].dt.year\n",
    "\n",
    "uber_data['request_hour']=uber_data['Request timestamp'].dt.hour\n",
    "uber_data['request_min']=uber_data['Request timestamp'].dt.minute\n",
    "\n",
    "uber_data['drop_hour']=uber_data['Drop timestamp'].dt.hour\n",
    "uber_data['drop_min']=uber_data['Drop timestamp'].dt.minute"
   ]
  },
  {
   "cell_type": "code",
   "execution_count": 12,
   "metadata": {},
   "outputs": [
    {
     "data": {
      "image/png": "[encoded data removed]",
      "text/plain": [
       "<Figure size 1224x504 with 1 Axes>"
      ]
     },
     "metadata": {},
     "output_type": "display_data"
    }
   ],
   "source": [
    "# Checking the number of requesr during day\n",
    "plt.figure(figsize = (17,7))\n",
    "x_val = uber_data.groupby('request_hour').request_hour.count().index\n",
    "y_val = uber_data.groupby('request_hour').request_hour.count().values\n",
    "plot  = sns.barplot(x = x_val , y=y_val , palette = 'coolwarm')\n",
    "plt.xlabel('Hours')\n",
    "plt.ylabel('No Of Request')\n",
    "plt.title('Hour vs Total Request')\n",
    "plt.show()\n"
   ]
  },
  {
   "cell_type": "markdown",
   "metadata": {},
   "source": [
    "From the Above graph we can conclude that the most number of request made between (5-9 AM) and (17-21 PM)"
   ]
  },
  {
   "cell_type": "code",
   "execution_count": 13,
   "metadata": {},
   "outputs": [],
   "source": [
    "# Now we will try to find out the frequency separately for Airplort and City\n",
    "\n",
    "uber_data_airport = uber_data[uber_data['Pickup point']=='Airport']\n",
    "uber_data_city = uber_data[uber_data['Pickup point']=='City']\n",
    "\n",
    "x_val_airport = uber_data_airport.groupby(['request_hour']).request_hour.sum().index\n",
    "y_val_airport = uber_data_airport.groupby(['request_hour']).request_hour.count().values\n",
    "\n",
    "x_val_city = uber_data_city.groupby(['request_hour']).request_hour.sum().index\n",
    "y_val_city = uber_data_city.groupby(['request_hour']).request_hour.sum().values\n",
    "\n",
    "\n"
   ]
  },
  {
   "cell_type": "code",
   "execution_count": 14,
   "metadata": {},
   "outputs": [
    {
     "data": {
      "image/png": "[encoded data removed]",
      "text/plain": [
       "<Figure size 1224x504 with 2 Axes>"
      ]
     },
     "metadata": {},
     "output_type": "display_data"
    }
   ],
   "source": [
    "# Plotting the comparison for Airport vs City number of request\n",
    "plt.figure(figsize = (17,7))\n",
    "plt.subplot(1,2,1)\n",
    "sns.barplot(x = x_val_airport,y = y_val_airport,palette = 'deep')\n",
    "plt.xlabel('Hours')\n",
    "plt.ylabel('No of Request')\n",
    "plt.title('No of request Airport')\n",
    "\n",
    "plt.subplot(1,2,2)\n",
    "sns.barplot(x = x_val_city,y = y_val_city,palette = 'rocket')\n",
    "plt.xlabel('Hours')\n",
    "plt.ylabel('No of Request')\n",
    "plt.title('No of request City')\n",
    "\n",
    "plt.show()"
   ]
  },
  {
   "cell_type": "markdown",
   "metadata": {},
   "source": [
    "From above graph we can conclude that the rush hour for airport taxi is (17-21) and for city the rush hour is (5-10)"
   ]
  },
  {
   "cell_type": "code",
   "execution_count": 15,
   "metadata": {},
   "outputs": [
    {
     "data": {
      "text/plain": [
       "<matplotlib.axes._subplots.AxesSubplot at 0x23a16e9eeb8>"
      ]
     },
     "execution_count": 15,
     "metadata": {},
     "output_type": "execute_result"
    },
    {
     "data": {
      "image/png": "[encoded data removed]",
      "text/plain": [
       "<Figure size 720x360 with 1 Axes>"
      ]
     },
     "metadata": {},
     "output_type": "display_data"
    }
   ],
   "source": [
    "# Graph showing total number of 'Cancelled' and 'No Cars Available'\n",
    "plt.figure(figsize = (10,5))\n",
    "sns.barplot(x = uber_data[(uber_data.Status == 'No Cars Available') | (uber_data.Status== 'Cancelled')].\n",
    "            groupby('Status').\n",
    "            Status.count().index,\n",
    "           y = uber_data[(uber_data.Status == 'No Cars Available') | (uber_data.Status== 'Cancelled')].\n",
    "            groupby('Status').\n",
    "            Status.count().values,palette = 'deep')"
   ]
  },
  {
   "cell_type": "markdown",
   "metadata": {},
   "source": [
    "Above graph is showing the number of cancelled and no cars available for the entire dataset"
   ]
  },
  {
   "cell_type": "code",
   "execution_count": 16,
   "metadata": {},
   "outputs": [
    {
     "data": {
      "image/png": "[encoded data removed]",
      "text/plain": [
       "<Figure size 1080x360 with 2 Axes>"
      ]
     },
     "metadata": {},
     "output_type": "display_data"
    }
   ],
   "source": [
    "# Graph showing total number of 'Cancelled' and 'No Cars Available' Airport and City wise\n",
    "plt.figure(figsize=(15,5))\n",
    "plt.subplot(121)\n",
    "plt.ylabel('Number Of Trips')\n",
    "plt.title('Airport Cabs')\n",
    "sns.barplot(x = uber_data_airport[(uber_data_airport.Status=='No Cars Available')|(uber_data_airport.Status == 'Cancelled')].groupby(\n",
    "    'Status').Status.count().index,\n",
    "            y = uber_data_airport[(uber_data_airport.Status=='No Cars Available')|(uber_data_airport.Status == 'Cancelled')].groupby(\n",
    "    'Status').Status.count().values,palette = 'vlag')\n",
    "plt.subplot(122)\n",
    "plt.ylabel('Number Of Trips')\n",
    "plt.title('City Cabs')\n",
    "sns.barplot(x = uber_data_city[(uber_data_city.Status=='No Cars Available')|(uber_data_city.Status == 'Cancelled')].groupby(\n",
    "    'Status').Status.count().index,\n",
    "            y = uber_data_city[(uber_data_city.Status=='No Cars Available')|(uber_data_city.Status == 'Cancelled')].groupby(\n",
    "    'Status').Status.count().values,palette = 'rocket')\n",
    "plt.show()"
   ]
  },
  {
   "cell_type": "markdown",
   "metadata": {},
   "source": [
    "DataSet is saggrigated and we can now see the unavailability of cabs for airport and city in two separate graphs"
   ]
  },
  {
   "cell_type": "code",
   "execution_count": 17,
   "metadata": {},
   "outputs": [
    {
     "data": {
      "text/plain": [
       "<matplotlib.axes._subplots.AxesSubplot at 0x23a1832f240>"
      ]
     },
     "execution_count": 17,
     "metadata": {},
     "output_type": "execute_result"
    },
    {
     "data": {
      "text/plain": [
       "<Figure size 1224x360 with 0 Axes>"
      ]
     },
     "metadata": {},
     "output_type": "display_data"
    },
    {
     "data": {
      "image/png": "[encoded data removed]",
      "text/plain": [
       "<Figure size 1080x360 with 1 Axes>"
      ]
     },
     "metadata": {},
     "output_type": "display_data"
    }
   ],
   "source": [
    "# Graph showing total number of 'Cancelled' and 'No Cars Available' for Airport by hours\n",
    "plt.figure(figsize=(17,5))\n",
    "uber_data_airport[(uber_data_airport.Status=='No Cars Available')|(uber_data_airport.Status == 'Cancelled')].groupby(\n",
    "    ['Status','request_hour']).Status.count().unstack('Status').fillna(0).plot(kind='bar', stacked=True,\n",
    "                                                                              linestyle='dashed',linewidth=2,\n",
    "                                                                              figsize=(15,5))"
   ]
  },
  {
   "cell_type": "markdown",
   "metadata": {},
   "source": [
    "**We can conclude from the above graph majority of cabs are unavailable from airport pickup from 17-21 Hours"
   ]
  },
  {
   "cell_type": "code",
   "execution_count": 18,
   "metadata": {},
   "outputs": [
    {
     "data": {
      "text/plain": [
       "<Figure size 1224x360 with 0 Axes>"
      ]
     },
     "metadata": {},
     "output_type": "display_data"
    },
    {
     "data": {
      "image/png": "[encoded data removed]",
      "text/plain": [
       "<Figure size 1080x360 with 1 Axes>"
      ]
     },
     "metadata": {},
     "output_type": "display_data"
    }
   ],
   "source": [
    "# Graph showing total number of 'Cancelled' and 'No Cars Available' for City by hours\n",
    "plt.figure(figsize=(17,5))\n",
    "colors = [\"#006D2C\", \"#31A354\",\"#74C476\"]\n",
    "uber_data_city[(uber_data_city.Status=='No Cars Available')|(uber_data_city.Status == 'Cancelled')].groupby(\n",
    "    ['Status','request_hour']).Status.count().unstack('Status').fillna(0).plot(kind='bar', stacked=True,\n",
    "                                                                                linestyle='dashed',linewidth=2,\n",
    "                                                                              color=colors,figsize=(15,5))\n",
    "plt.show()"
   ]
  },
  {
   "cell_type": "markdown",
   "metadata": {},
   "source": [
    "**We can conclude from the above graph majority of cabs are cancelled  from city pickup from 5-10 Hours"
   ]
  },
  {
   "cell_type": "code",
   "execution_count": 19,
   "metadata": {},
   "outputs": [],
   "source": [
    "# Sagrigating the airport and city DataFrames for peak hours where demand is more\n",
    "# For airport the peak hours between 17 & 21\n",
    "# For City the peak hour between 5 & 10\n",
    "airport_peak_hours = uber_data_airport[(uber_data_airport.request_hour >=17) & (uber_data_airport.request_hour <=21)]\n",
    "city_peak_hours = uber_data_city[(uber_data_city.request_hour >=5) & (uber_data_city.request_hour <=10)]\n"
   ]
  },
  {
   "cell_type": "code",
   "execution_count": 20,
   "metadata": {},
   "outputs": [
    {
     "data": {
      "image/png": "[encoded data removed]",
      "text/plain": [
       "<Figure size 1224x504 with 2 Axes>"
      ]
     },
     "metadata": {},
     "output_type": "display_data"
    }
   ],
   "source": [
    "# Calculating Supply Demand Gap from Airport trip where we already know the peak time is 17 - 21 PM \n",
    "# Calculating Supply Demand Gap from City trip where we already know the peak time is 5 - 10 PM \n",
    "\n",
    "airport_demand_supply_gap = {'Demand Supply':['Demand', 'Supply', 'Gap'], 'Difference':[len(airport_peak_hours.index)\n",
    "                                           , len(airport_peak_hours[airport_peak_hours.Status == 'Trip Completed'].index)\n",
    "                                           , len(airport_peak_hours.index)- len(airport_peak_hours[airport_peak_hours.Status == 'Trip Completed'].index)]}\n",
    "\n",
    "airport_gap = pd.DataFrame(airport_demand_supply_gap)\n",
    "\n",
    "\n",
    "\n",
    "city_demand_supply_gap = {'Demand Supply':['Demand', 'Supply', 'Gap'], 'Difference':[len(city_peak_hours.index)\n",
    "                                           , len(city_peak_hours[city_peak_hours.Status == 'Trip Completed'].index)\n",
    "                                           , len(city_peak_hours.index)- len(city_peak_hours[city_peak_hours.Status == 'Trip Completed'].index)]}\n",
    "\n",
    "city_gap = pd.DataFrame(city_demand_supply_gap)\n",
    "\n",
    "style.use('ggplot')\n",
    "plt.figure(figsize  = (17,7))\n",
    "plt.subplot(1,2,1)\n",
    "plt.title('Demand Supply Gap For Airport Taxi')\n",
    "sns.barplot(x = 'Demand Supply',y ='Difference',data =airport_gap )\n",
    "plt.subplot(1,2,2)\n",
    "plt.title('Demand Supply Gap For City Taxi')\n",
    "sns.barplot(x = 'Demand Supply',y ='Difference',data =city_gap )\n",
    "plt.show()"
   ]
  },
  {
   "cell_type": "markdown",
   "metadata": {},
   "source": [
    "Above Graph is showing the supply demand gap for airport and city cabs"
   ]
  },
  {
   "cell_type": "code",
   "execution_count": null,
   "metadata": {},
   "outputs": [],
   "source": []
  }
 ],
 "metadata": {
  "kernelspec": {
   "display_name": "Python 3",
   "language": "python",
   "name": "python3"
  },
  "language_info": {
   "codemirror_mode": {
    "name": "ipython",
    "version": 3
   },
   "file_extension": ".py",
   "mimetype": "text/x-python",
   "name": "python",
   "nbconvert_exporter": "python",
   "pygments_lexer": "ipython3",
   "version": "3.6.5"
  }
 },
 "nbformat": 4,
 "nbformat_minor": 2
}
